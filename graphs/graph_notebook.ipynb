{
 "cells": [
  {
   "cell_type": "code",
   "execution_count": null,
   "metadata": {},
   "outputs": [],
   "source": [
    "import sys\n",
    "sys.path.append(\"..\")"
   ]
  },
  {
   "cell_type": "code",
   "execution_count": null,
   "metadata": {},
   "outputs": [],
   "source": [
    "from config import engine"
   ]
  },
  {
   "cell_type": "code",
   "execution_count": null,
   "metadata": {},
   "outputs": [],
   "source": [
    "import panel as pn\n",
    "import pandas as pd\n",
    "import hvplot.pandas"
   ]
  },
  {
   "cell_type": "code",
   "execution_count": null,
   "metadata": {},
   "outputs": [],
   "source": [
    "import os\n",
    "from datetime import datetime\n",
    "from dateutil.relativedelta import relativedelta"
   ]
  },
  {
   "cell_type": "markdown",
   "metadata": {},
   "source": [
    "### Connect to Insight DB"
   ]
  },
  {
   "cell_type": "markdown",
   "metadata": {},
   "source": [
    "### Get DBs"
   ]
  },
  {
   "cell_type": "code",
   "execution_count": null,
   "metadata": {},
   "outputs": [],
   "source": [
    "databases = pd.read_sql_query('select name from sql_databases', con=engine).name.to_list()"
   ]
  },
  {
   "cell_type": "code",
   "execution_count": null,
   "metadata": {},
   "outputs": [],
   "source": [
    "def get_last_months_logs(db_name, engine):\n",
    "    today = datetime.utcnow()\n",
    "    one_month_ago = today - relativedelta(months=1)\n",
    "    query = f\"\"\"\n",
    "SELECT\n",
    "    id,\n",
    "    name,\n",
    "    status,\n",
    "    log,\n",
    "    timestamp\n",
    "FROM status_log\n",
    "WHERE name = '{db_name}'\n",
    "AND timestamp >= '{one_month_ago.strftime('%Y-%m-%d')}'\n",
    "ORDER BY timestamp \n",
    "\"\"\"\n",
    "    df = pd.read_sql_query(sql=query, con=engine)\n",
    "    df.timestamp = pd.to_datetime(df.timestamp)\n",
    "    return df"
   ]
  },
  {
   "cell_type": "markdown",
   "metadata": {},
   "source": [
    "### Get Last Month's logs"
   ]
  },
  {
   "cell_type": "code",
   "execution_count": null,
   "metadata": {},
   "outputs": [],
   "source": [
    "chart_title = 'Database Uptime'\n",
    "db_selector_list = pn.widgets.Select(name='Databases', options=databases)"
   ]
  },
  {
   "cell_type": "code",
   "execution_count": null,
   "metadata": {},
   "outputs": [],
   "source": [
    "@pn.depends(db_selector_list)\n",
    "def get_plot(db_selection):\n",
    "    df = get_last_months_logs(db_selection, engine=engine)\n",
    "    return df.hvplot.step(\n",
    "        'timestamp', \n",
    "        'status', \n",
    "        grid=True, \n",
    "        ylim=(-1,2),\n",
    "        yticks=[\n",
    "            (0, 'OFFLINE'),\n",
    "            (1, 'ONLINE'),\n",
    "        ]\n",
    "    )\n"
   ]
  },
  {
   "cell_type": "code",
   "execution_count": null,
   "metadata": {},
   "outputs": [],
   "source": []
  },
  {
   "cell_type": "code",
   "execution_count": null,
   "metadata": {},
   "outputs": [],
   "source": []
  },
  {
   "cell_type": "code",
   "execution_count": null,
   "metadata": {},
   "outputs": [],
   "source": []
  },
  {
   "cell_type": "code",
   "execution_count": null,
   "metadata": {},
   "outputs": [],
   "source": [
    "pn.Row(pn.Column(chart_title, db_selector_list), get_plot).servable()"
   ]
  },
  {
   "cell_type": "markdown",
   "metadata": {},
   "source": [
    "### Graph: Database Uptime"
   ]
  },
  {
   "cell_type": "code",
   "execution_count": null,
   "metadata": {},
   "outputs": [],
   "source": [
    "g1 = pn.Row(pn.Column(chart_title, db_selector_list), get_plot)"
   ]
  },
  {
   "cell_type": "markdown",
   "metadata": {},
   "source": [
    "### Graph 2"
   ]
  },
  {
   "cell_type": "markdown",
   "metadata": {},
   "source": [
    "g2 = pn.Row(pn.Column(chart_title, db_selector_list), get_plot)"
   ]
  },
  {
   "cell_type": "markdown",
   "metadata": {},
   "source": [
    "### Graph 3"
   ]
  },
  {
   "cell_type": "markdown",
   "metadata": {},
   "source": [
    "g3 = pn.Row(pn.Column(chart_title, db_selector_list), get_plot)"
   ]
  },
  {
   "cell_type": "code",
   "execution_count": null,
   "metadata": {},
   "outputs": [],
   "source": [
    "pn.serve({\n",
    "    'database_uptime': g1, \n",
    "#     'david_graph_2': g2, \n",
    "#     'david_graph_3': g3\n",
    "}, port=8088)"
   ]
  },
  {
   "cell_type": "code",
   "execution_count": null,
   "metadata": {},
   "outputs": [],
   "source": []
  }
 ],
 "metadata": {
  "kernelspec": {
   "display_name": "insight",
   "language": "python",
   "name": "insight"
  },
  "language_info": {
   "codemirror_mode": {
    "name": "ipython",
    "version": 3
   },
   "file_extension": ".py",
   "mimetype": "text/x-python",
   "name": "python",
   "nbconvert_exporter": "python",
   "pygments_lexer": "ipython3",
   "version": "3.7.7"
  }
 },
 "nbformat": 4,
 "nbformat_minor": 2
}
